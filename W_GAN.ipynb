{
  "cells": [
    {
      "cell_type": "markdown",
      "metadata": {
        "id": "view-in-github",
        "colab_type": "text"
      },
      "source": [
        "<a href=\"https://colab.research.google.com/github/Coming233/WGAN/blob/main/W_GAN.ipynb\" target=\"_parent\"><img src=\"https://colab.research.google.com/assets/colab-badge.svg\" alt=\"Open In Colab\"/></a>"
      ]
    },
    {
      "cell_type": "markdown",
      "metadata": {
        "id": "B32_DGG4Z3FH"
      },
      "source": [
        "# Implementation of Wasserstein GANs\n",
        "Reference: https://arxiv.org/pdf/1701.07875.pdf"
      ]
    },
    {
      "cell_type": "code",
      "execution_count": 32,
      "metadata": {
        "collapsed": true,
        "id": "QSQayof_Z3FJ",
        "colab": {
          "base_uri": "https://localhost:8080/"
        },
        "outputId": "c7d85ff3-920f-4fdf-da77-e8f7a2d3d340"
      },
      "outputs": [
        {
          "output_type": "stream",
          "name": "stdout",
          "text": [
            "Tue Jan 25 08:08:09 2022       \n",
            "+-----------------------------------------------------------------------------+\n",
            "| NVIDIA-SMI 495.46       Driver Version: 460.32.03    CUDA Version: 11.2     |\n",
            "|-------------------------------+----------------------+----------------------+\n",
            "| GPU  Name        Persistence-M| Bus-Id        Disp.A | Volatile Uncorr. ECC |\n",
            "| Fan  Temp  Perf  Pwr:Usage/Cap|         Memory-Usage | GPU-Util  Compute M. |\n",
            "|                               |                      |               MIG M. |\n",
            "|===============================+======================+======================|\n",
            "|   0  Tesla K80           Off  | 00000000:00:04.0 Off |                    0 |\n",
            "| N/A   73C    P0    72W / 149W |   1030MiB / 11441MiB |      0%      Default |\n",
            "|                               |                      |                  N/A |\n",
            "+-------------------------------+----------------------+----------------------+\n",
            "                                                                               \n",
            "+-----------------------------------------------------------------------------+\n",
            "| Processes:                                                                  |\n",
            "|  GPU   GI   CI        PID   Type   Process name                  GPU Memory |\n",
            "|        ID   ID                                                   Usage      |\n",
            "|=============================================================================|\n",
            "|  No running processes found                                                 |\n",
            "+-----------------------------------------------------------------------------+\n"
          ]
        }
      ],
      "source": [
        "# Run the comment below only when using Google Colab\n",
        "# !pip install torch torchvision\n",
        "! nvidia-smi"
      ]
    },
    {
      "cell_type": "code",
      "execution_count": 2,
      "metadata": {
        "collapsed": true,
        "id": "i1fgKVnQZ3FK"
      },
      "outputs": [],
      "source": [
        "import torch\n",
        "import torchvision\n",
        "import torch.nn as nn\n",
        "import torch.nn.functional as F"
      ]
    },
    {
      "cell_type": "code",
      "execution_count": 3,
      "metadata": {
        "collapsed": true,
        "id": "yJWRJ-KFZ3FK"
      },
      "outputs": [],
      "source": [
        "from torch.utils.data import DataLoader\n",
        "from torchvision import datasets\n",
        "from torchvision import transforms\n",
        "from torchvision.utils import save_image"
      ]
    },
    {
      "cell_type": "code",
      "execution_count": 4,
      "metadata": {
        "collapsed": true,
        "id": "9JHKf8MMZ3FL"
      },
      "outputs": [],
      "source": [
        "import numpy as np\n",
        "import datetime\n",
        "import os, sys"
      ]
    },
    {
      "cell_type": "code",
      "execution_count": 5,
      "metadata": {
        "collapsed": true,
        "id": "T37iDFcuZ3FL"
      },
      "outputs": [],
      "source": [
        "from matplotlib.pyplot import imshow, imsave\n",
        "%matplotlib inline"
      ]
    },
    {
      "cell_type": "code",
      "source": [
        "from google.colab import drive\n",
        "drive.mount('/content/gdrive')\n",
        "os.chdir(\"/content/gdrive/My Drive/Colab Notebooks/test/utils\")\n",
        "from colab_save_load import m_save_para\n",
        "save_path = \"/content/gdrive/My Drive/Colab Notebooks/test/model/test_save\""
      ],
      "metadata": {
        "colab": {
          "base_uri": "https://localhost:8080/"
        },
        "id": "1L814RAKhhFm",
        "outputId": "4c5a3a52-3721-4795-ba12-d0ed7a80b72f"
      },
      "execution_count": 7,
      "outputs": [
        {
          "output_type": "stream",
          "name": "stdout",
          "text": [
            "Mounted at /content/gdrive\n"
          ]
        }
      ]
    },
    {
      "cell_type": "code",
      "execution_count": 30,
      "metadata": {
        "collapsed": true,
        "id": "7XLUpZezZ3FL",
        "colab": {
          "base_uri": "https://localhost:8080/"
        },
        "outputId": "f6c835d8-fb7d-40a6-fdb3-e23e1cfa8457"
      },
      "outputs": [
        {
          "output_type": "stream",
          "name": "stdout",
          "text": [
            "cuda:0\n"
          ]
        }
      ],
      "source": [
        "MODEL_NAME = 'W-GAN'\n",
        "DEVICE = torch.device(\"cuda:0\" if torch.cuda.is_available() else \"cpu\")\n",
        "print(DEVICE)"
      ]
    },
    {
      "cell_type": "code",
      "execution_count": 9,
      "metadata": {
        "collapsed": true,
        "id": "H0sKlmuhZ3FM"
      },
      "outputs": [],
      "source": [
        "def to_onehot(x, num_classes=10):\n",
        "    assert isinstance(x, int) or isinstance(x, (torch.LongTensor, torch.cuda.LongTensor))\n",
        "    if isinstance(x, int):\n",
        "        c = torch.zeros(1, num_classes).long()\n",
        "        c[0][x] = 1\n",
        "    else:\n",
        "        x = x.cpu()\n",
        "        c = torch.LongTensor(x.size(0), num_classes)\n",
        "        c.zero_()\n",
        "        c.scatter_(1, x, 1) # dim, index, src value\n",
        "    return c"
      ]
    },
    {
      "cell_type": "code",
      "execution_count": 10,
      "metadata": {
        "collapsed": true,
        "id": "NSkaZdzFZ3FM"
      },
      "outputs": [],
      "source": [
        "def get_sample_image(G, n_noise=100):\n",
        "    \"\"\"\n",
        "        save sample 100 images\n",
        "    \"\"\"\n",
        "    img = np.zeros([280, 280])\n",
        "    for j in range(10):\n",
        "        c = torch.zeros([10, 10]).to(DEVICE)\n",
        "        c[:, j] = 1\n",
        "        z = torch.randn(10, n_noise).to(DEVICE)\n",
        "        y_hat = G(z,c).view(10, 28, 28)\n",
        "        result = y_hat.cpu().data.numpy()\n",
        "        img[j*28:(j+1)*28] = np.concatenate([x for x in result], axis=-1)\n",
        "    return img"
      ]
    },
    {
      "cell_type": "code",
      "execution_count": 11,
      "metadata": {
        "collapsed": true,
        "id": "re1ybVMyZ3FM"
      },
      "outputs": [],
      "source": [
        "class Discriminator(nn.Module):\n",
        "    \"\"\"\n",
        "        Convolutional Discriminator for MNIST\n",
        "        使用卷积网络来作为判别器和生成器的子网络\n",
        "    \"\"\"\n",
        "    def __init__(self, in_channel=1, input_size=784, condition_size=10, num_classes=1):\n",
        "        super(Discriminator, self).__init__()\n",
        "        self.transform = nn.Sequential(\n",
        "            nn.Linear(input_size+condition_size, 784), # 有控制条件，控制条件和cGAN中的设置一样\n",
        "            nn.LeakyReLU(0.2), # 用LeakyReLu有效减少“细胞死亡\"的后果\n",
        "        )\n",
        "        self.conv = nn.Sequential(\n",
        "            # 28 -> 14\n",
        "            nn.Conv2d(in_channel, 512, 3, stride=2, padding=1, bias=False),   # (1, 28, 28)-->(512, 14, 14)\n",
        "            nn.BatchNorm2d(512),\n",
        "            nn.LeakyReLU(0.2),\n",
        "            # 14 -> 7\n",
        "            nn.Conv2d(512, 256, 3, stride=2, padding=1, bias=False),  # (512, 14, 14)-->(256, 7, 7)\n",
        "            nn.BatchNorm2d(256),\n",
        "            nn.LeakyReLU(0.2),\n",
        "            # 7 -> 4\n",
        "            nn.Conv2d(256, 128, 3, stride=2, padding=1, bias=False),  # (256, 7, 7)-->(128, 4, 4)\n",
        "            nn.BatchNorm2d(128),\n",
        "            nn.LeakyReLU(0.2),\n",
        "            nn.AvgPool2d(4),\n",
        "        )\n",
        "        self.fc = nn.Sequential(\n",
        "            # reshape input, 128 -> 1\n",
        "            nn.Linear(128, 1),\n",
        "        )\n",
        "    \n",
        "    def forward(self, x, c=None):\n",
        "        # x: (N, 1, 28, 28), c: (N, 10)\n",
        "        x, c = x.view(x.size(0), -1), c.float() # may not need\n",
        "        v = torch.cat((x, c), 1) # v: (N, 794)\n",
        "        y_ = self.transform(v) # (N, 784)\n",
        "        y_ = y_.view(y_.shape[0], 1, 28, 28) # (N, 1, 28, 28)\n",
        "        y_ = self.conv(y_)\n",
        "        y_ = y_.view(y_.size(0), -1)\n",
        "        y_ = self.fc(y_)\n",
        "        return y_"
      ]
    },
    {
      "cell_type": "code",
      "execution_count": 12,
      "metadata": {
        "collapsed": true,
        "id": "7ExDSi21Z3FN"
      },
      "outputs": [],
      "source": [
        "class Generator(nn.Module):\n",
        "    \"\"\"\n",
        "        Convolutional Generator for MNIST\n",
        "    \"\"\"\n",
        "    def __init__(self, input_size=100, condition_size=10):\n",
        "        super(Generator, self).__init__()\n",
        "        self.fc = nn.Sequential(\n",
        "            nn.Linear(input_size+condition_size, 4*4*512),\n",
        "            nn.ReLU(),\n",
        "        )\n",
        "        self.conv = nn.Sequential(\n",
        "            # input: 4 by 4, output: 7 by 7\n",
        "            nn.ConvTranspose2d(512, 256, 3, stride=2, padding=1, bias=False),\n",
        "            nn.BatchNorm2d(256),\n",
        "            nn.ReLU(),\n",
        "            # input: 7 by 7, output: 14 by 14\n",
        "            nn.ConvTranspose2d(256, 128, 4, stride=2, padding=1, bias=False),\n",
        "            nn.BatchNorm2d(128),\n",
        "            nn.ReLU(),\n",
        "            # input: 14 by 14, output: 28 by 28\n",
        "            nn.ConvTranspose2d(128, 1, 4, stride=2, padding=1, bias=False),\n",
        "            nn.Tanh(),\n",
        "        )\n",
        "        \n",
        "    def forward(self, x, c):\n",
        "        # x: (N, 100), c: (N, 10)\n",
        "        x, c = x.view(x.size(0), -1), c.float() # may not need\n",
        "        v = torch.cat((x, c), 1) # v: (N, 110)\n",
        "        y_ = self.fc(v)\n",
        "        y_ = y_.view(y_.size(0), 512, 4, 4)\n",
        "        y_ = self.conv(y_) # (N, 28, 28)\n",
        "        return y_"
      ]
    },
    {
      "cell_type": "code",
      "execution_count": 13,
      "metadata": {
        "collapsed": true,
        "id": "yCaKEoAAZ3FN"
      },
      "outputs": [],
      "source": [
        "D = Discriminator().to(DEVICE)\n",
        "G = Generator().to(DEVICE)\n",
        "# D.load_state_dict('D_dc.pkl')\n",
        "# G.load_state_dict('G_dc.pkl')"
      ]
    },
    {
      "cell_type": "code",
      "execution_count": 14,
      "metadata": {
        "collapsed": true,
        "id": "6lKHCjWUZ3FO"
      },
      "outputs": [],
      "source": [
        "transform = transforms.Compose([transforms.ToTensor(),\n",
        "                                transforms.Normalize(mean=[0.5],\n",
        "                                std=[0.5])]\n",
        ")"
      ]
    },
    {
      "cell_type": "code",
      "execution_count": 15,
      "metadata": {
        "collapsed": true,
        "id": "HIWU2ZGmZ3FO"
      },
      "outputs": [],
      "source": [
        "mnist = datasets.MNIST(root='../data/', train=True, transform=transform, download=True)"
      ]
    },
    {
      "cell_type": "code",
      "execution_count": 16,
      "metadata": {
        "collapsed": true,
        "id": "fL3M3W4EZ3FO"
      },
      "outputs": [],
      "source": [
        "batch_size = 64"
      ]
    },
    {
      "cell_type": "code",
      "execution_count": 17,
      "metadata": {
        "collapsed": true,
        "id": "BTtHx581Z3FO"
      },
      "outputs": [],
      "source": [
        "data_loader = DataLoader(dataset=mnist, batch_size=batch_size, shuffle=True, drop_last=True, pin_memory=True)"
      ]
    },
    {
      "cell_type": "code",
      "execution_count": 18,
      "metadata": {
        "collapsed": true,
        "id": "ZN3dCOpjZ3FP"
      },
      "outputs": [],
      "source": [
        "D_opt = torch.optim.RMSprop(D.parameters(), lr=0.0005)   # 优化方法用RMSprop\n",
        "G_opt = torch.optim.RMSprop(G.parameters(), lr=0.0005)"
      ]
    },
    {
      "cell_type": "code",
      "execution_count": 19,
      "metadata": {
        "collapsed": true,
        "id": "d0bWHn0nZ3FP"
      },
      "outputs": [],
      "source": [
        "max_epoch = 50 # need more than 100 epochs for training generator\n",
        "step = 0\n",
        "g_step = 0\n",
        "n_noise = 100"
      ]
    },
    {
      "cell_type": "code",
      "execution_count": 20,
      "metadata": {
        "collapsed": true,
        "id": "3-lzQ_LhZ3FP"
      },
      "outputs": [],
      "source": [
        "def n_critic(step, nc=2):\n",
        "    if step < 25 or step % 500 == 0:\n",
        "        return 100\n",
        "    return nc"
      ]
    },
    {
      "cell_type": "code",
      "execution_count": 21,
      "metadata": {
        "collapsed": true,
        "id": "Xb7wSFZZZ3FP"
      },
      "outputs": [],
      "source": [
        "D_labels = torch.ones([batch_size, 1]).to(DEVICE) # Discriminator Label to real\n",
        "D_fakes = torch.zeros([batch_size, 1]).to(DEVICE) # Discriminator Label to fake"
      ]
    },
    {
      "cell_type": "code",
      "source": [
        "if not os.path.exists('samples'):\n",
        "    os.makedirs('samples')"
      ],
      "metadata": {
        "id": "KN66ByMacpbl"
      },
      "execution_count": 22,
      "outputs": []
    },
    {
      "cell_type": "code",
      "execution_count": 23,
      "metadata": {
        "scrolled": true,
        "id": "UhMTg-ZhZ3FP",
        "outputId": "4ee89b10-f6a8-41d5-dba9-de1777f33b85",
        "colab": {
          "base_uri": "https://localhost:8080/"
        }
      },
      "outputs": [
        {
          "output_type": "stream",
          "name": "stdout",
          "text": [
            "Epoch: 0/50, Step: 0, D Loss: 0.00549355149269104, G Loss: -0.009972832165658474\n",
            "Epoch: 0/50, Step: 500, D Loss: -0.0028014453127980232, G Loss: -0.008140716701745987\n",
            "Epoch: 1/50, Step: 1000, D Loss: -0.002820483408868313, G Loss: -0.00804285891354084\n",
            "Epoch: 1/50, Step: 1500, D Loss: -0.002930736169219017, G Loss: -0.008022258058190346\n",
            "Epoch: 2/50, Step: 2000, D Loss: -0.0029772529378533363, G Loss: -0.007986873388290405\n",
            "Epoch: 2/50, Step: 2500, D Loss: -0.00298211257904768, G Loss: -0.007993416860699654\n",
            "Epoch: 3/50, Step: 3000, D Loss: -0.000141877681016922, G Loss: -0.008810503408312798\n",
            "Epoch: 3/50, Step: 3500, D Loss: 3.953464329242706e-05, G Loss: -0.009551387280225754\n",
            "Epoch: 4/50, Step: 4000, D Loss: 3.203749656677246e-07, G Loss: -0.009553409181535244\n",
            "Epoch: 4/50, Step: 4500, D Loss: 3.110617399215698e-07, G Loss: -0.009383452124893665\n",
            "Epoch: 5/50, Step: 5000, D Loss: -3.6600977182388306e-07, G Loss: -0.009359108284115791\n",
            "Epoch: 5/50, Step: 5500, D Loss: -3.5390257835388184e-07, G Loss: -0.009628240019083023\n",
            "Epoch: 6/50, Step: 6000, D Loss: -2.1420419216156006e-07, G Loss: -0.009547566063702106\n",
            "Epoch: 6/50, Step: 6500, D Loss: 1.955777406692505e-07, G Loss: -0.009563998319208622\n",
            "Epoch: 7/50, Step: 7000, D Loss: 9.313225746154785e-08, G Loss: -0.009597279131412506\n",
            "Epoch: 8/50, Step: 7500, D Loss: -3.818422555923462e-08, G Loss: -0.009579278528690338\n",
            "Epoch: 8/50, Step: 8000, D Loss: 0.0, G Loss: -0.009550417773425579\n",
            "Epoch: 9/50, Step: 8500, D Loss: -9.313225746154785e-10, G Loss: -0.009509246796369553\n",
            "Epoch: 9/50, Step: 9000, D Loss: 0.0, G Loss: -0.009504654444754124\n",
            "Epoch: 10/50, Step: 9500, D Loss: 0.0, G Loss: -0.009526998735964298\n",
            "Epoch: 10/50, Step: 10000, D Loss: 0.0, G Loss: -0.00955386832356453\n",
            "Epoch: 11/50, Step: 10500, D Loss: 0.0, G Loss: -0.00954215694218874\n",
            "Epoch: 11/50, Step: 11000, D Loss: 0.0, G Loss: -0.00949473399668932\n",
            "Epoch: 12/50, Step: 11500, D Loss: 0.0, G Loss: -0.009532628580927849\n",
            "Epoch: 12/50, Step: 12000, D Loss: 0.0, G Loss: -0.009465446695685387\n",
            "Epoch: 13/50, Step: 12500, D Loss: 0.0, G Loss: -0.009473912417888641\n",
            "Epoch: 13/50, Step: 13000, D Loss: 0.0, G Loss: -0.009497445076704025\n",
            "Epoch: 14/50, Step: 13500, D Loss: 0.0, G Loss: -0.009577373042702675\n",
            "Epoch: 14/50, Step: 14000, D Loss: 9.313225746154785e-10, G Loss: -0.009570514783263206\n",
            "Epoch: 15/50, Step: 14500, D Loss: 0.0, G Loss: -0.009602983482182026\n",
            "Epoch: 16/50, Step: 15000, D Loss: -9.313225746154785e-10, G Loss: -0.009615721181035042\n",
            "Epoch: 16/50, Step: 15500, D Loss: 0.0, G Loss: -0.009594844654202461\n",
            "Epoch: 17/50, Step: 16000, D Loss: 9.313225746154785e-10, G Loss: -0.009608045220375061\n",
            "Epoch: 17/50, Step: 16500, D Loss: -9.313225746154785e-10, G Loss: -0.009669041261076927\n",
            "Epoch: 18/50, Step: 17000, D Loss: 0.0, G Loss: -0.009652980603277683\n",
            "Epoch: 18/50, Step: 17500, D Loss: 0.0, G Loss: -0.009704118594527245\n",
            "Epoch: 19/50, Step: 18000, D Loss: 0.0, G Loss: -0.009707881137728691\n",
            "Epoch: 19/50, Step: 18500, D Loss: 0.0, G Loss: -0.009666699916124344\n",
            "Epoch: 20/50, Step: 19000, D Loss: -9.313225746154785e-10, G Loss: -0.009634101763367653\n",
            "Epoch: 20/50, Step: 19500, D Loss: -1.862645149230957e-09, G Loss: -0.009627876803278923\n",
            "Epoch: 21/50, Step: 20000, D Loss: 0.0, G Loss: -0.009617798961699009\n",
            "Epoch: 21/50, Step: 20500, D Loss: 0.0, G Loss: -0.00962990801781416\n",
            "Epoch: 22/50, Step: 21000, D Loss: 0.0, G Loss: -0.009640440344810486\n",
            "Epoch: 22/50, Step: 21500, D Loss: 0.0, G Loss: -0.009666847996413708\n",
            "Epoch: 23/50, Step: 22000, D Loss: 0.0, G Loss: -0.009689053520560265\n",
            "Epoch: 24/50, Step: 22500, D Loss: -9.313225746154785e-10, G Loss: -0.009708249941468239\n",
            "Epoch: 24/50, Step: 23000, D Loss: 0.0, G Loss: -0.009702307172119617\n",
            "Epoch: 25/50, Step: 23500, D Loss: 9.313225746154785e-10, G Loss: -0.00970224104821682\n",
            "Epoch: 25/50, Step: 24000, D Loss: 0.0, G Loss: -0.009667967446148396\n",
            "Epoch: 26/50, Step: 24500, D Loss: 0.0, G Loss: -0.009661242365837097\n",
            "Epoch: 26/50, Step: 25000, D Loss: 0.0, G Loss: -0.00967717356979847\n",
            "Epoch: 27/50, Step: 25500, D Loss: 0.0, G Loss: -0.0097137950360775\n",
            "Epoch: 27/50, Step: 26000, D Loss: 0.0, G Loss: -0.0097179114818573\n",
            "Epoch: 28/50, Step: 26500, D Loss: 0.0, G Loss: -0.009675871580839157\n",
            "Epoch: 28/50, Step: 27000, D Loss: 0.0, G Loss: -0.009646117687225342\n",
            "Epoch: 29/50, Step: 27500, D Loss: -9.313225746154785e-10, G Loss: -0.00967058353126049\n",
            "Epoch: 29/50, Step: 28000, D Loss: 0.0, G Loss: -0.00970833096653223\n",
            "Epoch: 30/50, Step: 28500, D Loss: 0.0, G Loss: -0.009749376215040684\n",
            "Epoch: 30/50, Step: 29000, D Loss: 0.0, G Loss: -0.009769313037395477\n",
            "Epoch: 31/50, Step: 29500, D Loss: -9.313225746154785e-10, G Loss: -0.00976371206343174\n",
            "Epoch: 32/50, Step: 30000, D Loss: -9.313225746154785e-10, G Loss: -0.009693820029497147\n",
            "Epoch: 32/50, Step: 30500, D Loss: 0.0, G Loss: -0.009720713831484318\n",
            "Epoch: 33/50, Step: 31000, D Loss: 0.0, G Loss: -0.009718989953398705\n",
            "Epoch: 33/50, Step: 31500, D Loss: 0.0, G Loss: -0.009723002091050148\n",
            "Epoch: 34/50, Step: 32000, D Loss: 9.313225746154785e-10, G Loss: -0.00973509717732668\n",
            "Epoch: 34/50, Step: 32500, D Loss: 9.313225746154785e-10, G Loss: -0.009780245833098888\n",
            "Epoch: 35/50, Step: 33000, D Loss: 0.0, G Loss: -0.009828788228332996\n",
            "Epoch: 35/50, Step: 33500, D Loss: 0.0, G Loss: -0.00983884371817112\n",
            "Epoch: 36/50, Step: 34000, D Loss: 0.0, G Loss: -0.009814973920583725\n",
            "Epoch: 36/50, Step: 34500, D Loss: 0.0, G Loss: -0.009881813079118729\n",
            "Epoch: 37/50, Step: 35000, D Loss: 9.313225746154785e-10, G Loss: -0.00984945148229599\n",
            "Epoch: 37/50, Step: 35500, D Loss: 9.313225746154785e-10, G Loss: -0.009842714294791222\n",
            "Epoch: 38/50, Step: 36000, D Loss: 0.0, G Loss: -0.009884572587907314\n",
            "Epoch: 38/50, Step: 36500, D Loss: 0.0, G Loss: -0.009870713576674461\n",
            "Epoch: 39/50, Step: 37000, D Loss: -9.313225746154785e-10, G Loss: -0.009891204535961151\n",
            "Epoch: 40/50, Step: 37500, D Loss: 9.313225746154785e-10, G Loss: -0.009857142344117165\n",
            "Epoch: 40/50, Step: 38000, D Loss: 0.0, G Loss: -0.009812356904149055\n",
            "Epoch: 41/50, Step: 38500, D Loss: 0.0, G Loss: -0.009839480742812157\n",
            "Epoch: 41/50, Step: 39000, D Loss: 9.313225746154785e-10, G Loss: -0.009870496578514576\n",
            "Epoch: 42/50, Step: 39500, D Loss: 9.313225746154785e-10, G Loss: -0.009849599562585354\n",
            "Epoch: 42/50, Step: 40000, D Loss: 0.0, G Loss: -0.009810283780097961\n",
            "Epoch: 43/50, Step: 40500, D Loss: 0.0, G Loss: -0.00982753187417984\n",
            "Epoch: 43/50, Step: 41000, D Loss: 9.313225746154785e-10, G Loss: -0.00977596826851368\n",
            "Epoch: 44/50, Step: 41500, D Loss: 0.0, G Loss: -0.00978308916091919\n",
            "Epoch: 44/50, Step: 42000, D Loss: 0.0, G Loss: -0.00977417267858982\n",
            "Epoch: 45/50, Step: 42500, D Loss: 0.0, G Loss: -0.009782092645764351\n",
            "Epoch: 45/50, Step: 43000, D Loss: -9.313225746154785e-10, G Loss: -0.009828595444560051\n",
            "Epoch: 46/50, Step: 43500, D Loss: 0.0, G Loss: -0.00985951442271471\n",
            "Epoch: 46/50, Step: 44000, D Loss: 0.0, G Loss: -0.009921148419380188\n",
            "Epoch: 47/50, Step: 44500, D Loss: 0.0, G Loss: -0.009871792048215866\n",
            "Epoch: 48/50, Step: 45000, D Loss: 0.0, G Loss: -0.009850500151515007\n",
            "Epoch: 48/50, Step: 45500, D Loss: 9.313225746154785e-10, G Loss: -0.009809421375393867\n",
            "Epoch: 49/50, Step: 46000, D Loss: 0.0, G Loss: -0.0098196379840374\n",
            "Epoch: 49/50, Step: 46500, D Loss: -1.862645149230957e-09, G Loss: -0.009783819317817688\n"
          ]
        }
      ],
      "source": [
        "for epoch in range(max_epoch):\n",
        "    for idx, (images, labels) in enumerate(data_loader):\n",
        "                   \n",
        "        # Training Discriminator\n",
        "        x = images.to(DEVICE) # 数据送入GPU\n",
        "        y = labels.view(batch_size, 1) # 标签\n",
        "        y = to_onehot(y).to(DEVICE) # 编码\n",
        "        x_outputs = D(x, y) # 送入判别器训练\n",
        "\n",
        "        z = torch.randn(batch_size, n_noise).to(DEVICE) # 生成（N，100）的噪声\n",
        "        z_outputs = D(G(z, y), y) # 送入生成器的数据进去判别器训练\n",
        "        D_x_loss = torch.mean(x_outputs) # 输出取平均\n",
        "        D_z_loss = torch.mean(z_outputs) # 输出取平均\n",
        "        D_loss = D_z_loss - D_x_loss    # loss = 平均值（生成得到的loss - 真实样本得到的loss）\n",
        "        \n",
        "        D.zero_grad()\n",
        "        D_loss.backward()\n",
        "        D_opt.step()\n",
        "        # Parameter(Weight) Clipping for K-Lipshitz constraint\n",
        "        for p in D.parameters():    # 利用夹断模式将判别器的参数限制，限制判别器的能力\n",
        "            p.data.clamp_(-0.01, 0.01)\n",
        "                    \n",
        "        if step % 1 == 0:\n",
        "            g_step += 1\n",
        "            # Training Generator\n",
        "            z = torch.randn(batch_size, n_noise).to(DEVICE)\n",
        "            z_outputs = D(G(z, y), y)\n",
        "            G_loss = -torch.mean(z_outputs) \n",
        "\n",
        "            D.zero_grad()\n",
        "            G.zero_grad()\n",
        "            G_loss.backward()\n",
        "            G_opt.step()\n",
        "            \n",
        "        if step % 500 == 0:\n",
        "            print('Epoch: {}/{}, Step: {}, D Loss: {}, G Loss: {}'.format(epoch, max_epoch, step, D_loss.item(), G_loss.item()))\n",
        "        \n",
        "        if step % 1000 == 0:\n",
        "            G.eval()\n",
        "            img = get_sample_image(G, n_noise)\n",
        "            imsave('samples/{}_step{}.jpg'.format(MODEL_NAME, str(step).zfill(3)), img, cmap='gray')\n",
        "            G.train()\n",
        "        step += 1"
      ]
    },
    {
      "cell_type": "code",
      "execution_count": 23,
      "metadata": {
        "collapsed": true,
        "id": "uMf5gnXFZ3FQ"
      },
      "outputs": [],
      "source": [
        ""
      ]
    },
    {
      "cell_type": "markdown",
      "metadata": {
        "id": "9HMmTDS-Z3FQ"
      },
      "source": [
        "## Sample"
      ]
    },
    {
      "cell_type": "code",
      "execution_count": 24,
      "metadata": {
        "id": "0fN72fdzZ3FR",
        "outputId": "d201ca5f-8dc0-4685-d9c9-c2a72c1dcbd2",
        "colab": {
          "base_uri": "https://localhost:8080/",
          "height": 287
        }
      },
      "outputs": [
        {
          "output_type": "execute_result",
          "data": {
            "text/plain": [
              "<matplotlib.image.AxesImage at 0x7f5c02c04850>"
            ]
          },
          "metadata": {},
          "execution_count": 24
        },
        {
          "output_type": "display_data",
          "data": {
            "image/png": "[encoded data removed]",
            "text/plain": [
              "<Figure size 432x288 with 1 Axes>"
            ]
          },
          "metadata": {
            "needs_background": "light"
          }
        }
      ],
      "source": [
        "# generation to image\n",
        "G.eval()\n",
        "imshow(get_sample_image(G, n_noise), cmap='gray')"
      ]
    },
    {
      "cell_type": "code",
      "execution_count": 25,
      "metadata": {
        "collapsed": true,
        "id": "NegG1o_5Z3FR"
      },
      "outputs": [],
      "source": [
        "m_save_para(D.state_dict(), save_path, 'D_WGAN.pkl')\n",
        "m_save_para(G.state_dict(), save_path, 'G_WGAN.pkl')"
      ]
    },
    {
      "cell_type": "code",
      "execution_count": 26,
      "metadata": {
        "collapsed": true,
        "id": "RudA8T22Z3FR"
      },
      "outputs": [],
      "source": [
        "def save_checkpoint(state, file_name='checkpoint.pth.tar'):\n",
        "    torch.save(state, file_name)"
      ]
    },
    {
      "cell_type": "code",
      "execution_count": 27,
      "metadata": {
        "collapsed": true,
        "id": "PBr6Ka6ZZ3FR"
      },
      "outputs": [],
      "source": [
        "# Saving params.\n",
        "# torch.save(D.state_dict(), 'D_c.pkl')\n",
        "# torch.save(G.state_dict(), 'G_c.pkl')\n",
        "# save_checkpoint({'epoch': epoch + 1, 'state_dict':D.state_dict(), 'optimizer' : D_opt.state_dict()}, 'D_w.pth.tar')\n",
        "# save_checkpoint({'epoch': epoch + 1, 'state_dict':G.state_dict(), 'optimizer' : G_opt.state_dict()}, 'G_w.pth.tar')"
      ]
    }
  ],
  "metadata": {
    "kernelspec": {
      "display_name": "Python 3",
      "language": "python",
      "name": "python3"
    },
    "language_info": {
      "codemirror_mode": {
        "name": "ipython",
        "version": 3
      },
      "file_extension": ".py",
      "mimetype": "text/x-python",
      "name": "python",
      "nbconvert_exporter": "python",
      "pygments_lexer": "ipython3",
      "version": "3.6.3"
    },
    "colab": {
      "name": "W-GAN.ipynb",
      "provenance": [],
      "collapsed_sections": [],
      "include_colab_link": true
    },
    "accelerator": "GPU"
  },
  "nbformat": 4,
  "nbformat_minor": 0
}